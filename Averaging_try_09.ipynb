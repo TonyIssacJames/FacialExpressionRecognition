{
 "cells": [
  {
   "cell_type": "markdown",
   "metadata": {},
   "source": [
    "\n",
    "### Tutorial Objective          :  Get  a score 0.69 or more for this [Kaggle challenge](https://www.kaggle.com/c/challenges-in-representation-learning-facial-expression-recognition-challenge/leaderboard) \n",
    "\n",
    "\n",
    "## Steps\n",
    "\n",
    "1. Read Zhiding Yu's & Cha Zhang's paper [1] [Image based Static Facial Expression Recognition with Multiple Deep Network Learning](https://www.microsoft.com/en-us/research/wp-content/uploads/2016/02/icmi2015_ChaZhang.pdf)\n",
    "    - **It is very important to understand this paper**\n",
    "    - We are going to implement the NN model and methods in this paper\n",
    "2. Checkout this repo - [https://github.com/LamUong/FacialExpressionRecognition](https://github.com/LamUong/FacialExpressionRecognition)\n",
    "    - it has lot of helper functions to read data\n",
    "    - It has Simple Average Ensemble method\n",
    "    - This code will save us a lot of time\n",
    "3. Exploratory data analysis\n",
    "\n",
    "4. Build a NN model based on Zhiding Yu's paper [1]\n",
    "    - Use the basic CNN model given in the paper as a reference design\n",
    "    - Try to improve the model by \n",
    "            - adding more layers\n",
    "            - using different optimiser\n",
    "            - using different cost function etc.\n",
    "    - Use randomized peturbation for training(Data Augmentation)\n",
    "    - Get as high testing accuracy as possible\n",
    "    \n",
    "5. Test with Private Leader Board data\n",
    "6. Analyse the results of the stand alone model\n",
    "    - print confusion matrix\n",
    "    - plot validation/training accuracy/loss\n",
    "7. Build Different ensemble models (using Randomly perturbed input) to further increase accuracy\n",
    "    - Simple Average Ensembling\n",
    "    - NN based Ensembling\n",
    "8. Plot and Compare the results of different approaches\n",
    "9. Choose the one with highest tesing accuracy\n",
    "    - and pray it beats Kaggle scores ![Image](http://globe-views.com/dcim/dreams/smile/smile-01.jpg)\n",
    "\n",
    "\n",
    "[1] Image based Static Facial Expression Recognition with Multiple Deep Network Learning\n",
    "\n",
    "\n",
    "### Mre Details can be found here              :  https://github.com/LamUong/FacialExpressionRecognition\n",
    "\n",
    "### Current Achieved Accuracy for the [Kaggle challenge](https://www.kaggle.com/c/challenges-in-representation-learning-facial-expression-recognition-challenge/leaderboard) :  0.7035\n",
    "\n",
    "\n",
    "## Some observaions\n",
    "- test and validation accuracy seems to be very close (so the test accuracy will be almost same as validation accuracy)\n",
    "\n",
    "**Notice** <br/>\n",
    "Permission to make digital or hard copies of all or part of this work for personal or classroom use is granted without fee provided that copies are not made or distributed for profit or commercial advantage and that copies bear this notice and the full citation on the first page. Copyrights for components of this work owned by others than ACM must be honored. Abstracting with credit is permitted. To copy otherwise, or republish, to post on servers or to redistribute to lists, requires prior specific permission and/or a fee.\n",
    "\n",
    "<br/> Request permissions from Permissions@acm.org.\n",
    "<br/> EmotiW’15, November 9, 2015, Seattle, WA, USA.\n",
    "<br/> 2015 ACM. ISBN 978-1-4503-3983-4/15/11 ...$15.00.\n",
    "<br/> DOI: http://dx.doi.org/10.1145/2823327.2823341."
   ]
  },
  {
   "cell_type": "markdown",
   "metadata": {},
   "source": [
    "#### Some observaions\n",
    "\n",
    "#### the test accuracy and private leader board accuracy are very close\n"
   ]
  },
  {
   "cell_type": "code",
   "execution_count": null,
   "metadata": {},
   "outputs": [],
   "source": []
  },
  {
   "cell_type": "code",
   "execution_count": 1,
   "metadata": {},
   "outputs": [
    {
     "name": "stderr",
     "output_type": "stream",
     "text": [
      "/usr/local/lib/python3.6/dist-packages/h5py/__init__.py:36: FutureWarning: Conversion of the second argument of issubdtype from `float` to `np.floating` is deprecated. In future, it will be treated as `np.float64 == np.dtype(float).type`.\n",
      "  from ._conv import register_converters as _register_converters\n",
      "Using TensorFlow backend.\n"
     ]
    }
   ],
   "source": [
    "from __future__ import print_function\n",
    "\n",
    "import cv2\n",
    "import PIL\n",
    "from PIL import Image\n",
    "import keras\n",
    "from keras.models import Sequential\n",
    "from keras.layers import Dense, Dropout, Activation, Flatten, BatchNormalization\n",
    "from keras.layers import Convolution2D, MaxPooling2D, Conv2D\n",
    "from keras.layers import AveragePooling2D\n",
    "from keras.optimizers import Adadelta ,SGD \n",
    "from keras.utils import np_utils\n",
    "#from keras.regularizers import l2, activity_l2\n",
    "from keras.regularizers import l2, l1\n",
    "from keras.layers import deserialize as layer_from_config\n",
    "import numpy as np\n",
    "import _pickle as cPickle\n",
    "import numpy\n",
    "import cv2\n",
    "import scipy\n",
    "import csv\n",
    "import dataprocessing\n",
    "from numpy import array\n",
    "from keras.models import load_model"
   ]
  },
  {
   "cell_type": "markdown",
   "metadata": {},
   "source": [
    "### 4. Build the model (on Zhiding Yu's paper)"
   ]
  },
  {
   "cell_type": "markdown",
   "metadata": {},
   "source": [
    "#### Custom cost function\n"
   ]
  },
  {
   "cell_type": "code",
   "execution_count": 3,
   "metadata": {},
   "outputs": [],
   "source": [
    "import keras.backend as K\n",
    "\n",
    "def categorical_crossentropy_svm(y_true, y_pred):\n",
    "    alpha = 0.6\n",
    "        \n",
    "    ce_loss = K.categorical_crossentropy(y_true, y_pred)\n",
    "    \n",
    "    rmse_loss = K.sqrt(K.mean(K.square((y_pred - y_true)*(1 - y_true)), axis=-1))\n",
    "    \n",
    "    return (ce_loss + rmse_loss)"
   ]
  },
  {
   "cell_type": "markdown",
   "metadata": {},
   "source": []
  },
  {
   "cell_type": "markdown",
   "metadata": {},
   "source": [
    "# We have alredy done the training, so here we just load the Model"
   ]
  },
  {
   "cell_type": "code",
   "execution_count": null,
   "metadata": {},
   "outputs": [],
   "source": []
  },
  {
   "cell_type": "code",
   "execution_count": null,
   "metadata": {},
   "outputs": [],
   "source": []
  },
  {
   "cell_type": "code",
   "execution_count": null,
   "metadata": {},
   "outputs": [],
   "source": []
  },
  {
   "cell_type": "code",
   "execution_count": null,
   "metadata": {
    "scrolled": true
   },
   "outputs": [],
   "source": []
  },
  {
   "cell_type": "markdown",
   "metadata": {},
   "source": []
  },
  {
   "cell_type": "code",
   "execution_count": null,
   "metadata": {},
   "outputs": [],
   "source": []
  },
  {
   "cell_type": "markdown",
   "metadata": {},
   "source": [
    "### Load and preprocess the train and validation data"
   ]
  },
  {
   "cell_type": "code",
   "execution_count": 4,
   "metadata": {},
   "outputs": [],
   "source": [
    "def get_train_val_data():\n",
    "    \n",
    "    X_train, y_train, X_val, y_val  = dataprocessing.load_data()\n",
    "    \n",
    "    for i in range(len(X_train)):\n",
    "        X_train[i] = (array(X_train[i])).reshape(48, 48, 1)\n",
    "        \n",
    "    X_train= array(X_train)\n",
    "    \n",
    "    for i in range(len(X_val)):\n",
    "        X_val[i] = (array(X_val[i])).reshape(48, 48, 1)\n",
    "        \n",
    "    X_val= array(X_val)\n",
    "    \n",
    "    y_train = array(y_train)\n",
    "    y_val   = array(y_val)\n",
    "    \n",
    "    # Convert 1-dimensional class arrays to 10-dimensional class matrices\n",
    "    Y_train = np_utils.to_categorical(y_train, 7)\n",
    "    Y_val = np_utils.to_categorical(y_val, 7)\n",
    "    \n",
    "    return X_train, Y_train, X_val, Y_val"
   ]
  },
  {
   "cell_type": "code",
   "execution_count": 7,
   "metadata": {},
   "outputs": [],
   "source": [
    "X_train, Y_train, X_val, Y_val = get_train_val_data()"
   ]
  },
  {
   "cell_type": "code",
   "execution_count": 8,
   "metadata": {},
   "outputs": [
    {
     "name": "stdout",
     "output_type": "stream",
     "text": [
      "(32181, 48, 48, 1) (32181, 7) (3589, 48, 48, 1) (3589, 7)\n"
     ]
    }
   ],
   "source": [
    "print(X_train.shape, Y_train.shape, X_val.shape, Y_val.shape)"
   ]
  },
  {
   "cell_type": "code",
   "execution_count": null,
   "metadata": {},
   "outputs": [],
   "source": []
  },
  {
   "cell_type": "code",
   "execution_count": null,
   "metadata": {},
   "outputs": [],
   "source": []
  },
  {
   "cell_type": "code",
   "execution_count": null,
   "metadata": {},
   "outputs": [],
   "source": []
  },
  {
   "cell_type": "markdown",
   "metadata": {},
   "source": [
    "### 5. Test with Private Leader Board data"
   ]
  },
  {
   "cell_type": "code",
   "execution_count": 12,
   "metadata": {},
   "outputs": [],
   "source": [
    "def get_private_test_data():\n",
    "    \n",
    "    X_private_test, y_private_test  = dataprocessing.load_test_data()\n",
    "    \n",
    "    for i in range(len(X_private_test)):\n",
    "        X_private_test[i] = (array(X_private_test[i])).reshape(48, 48, 1)\n",
    "    \n",
    "    X_private_test= array(X_private_test)\n",
    "    Y_private_test = np_utils.to_categorical(y_private_test, 7)\n",
    "    \n",
    "    return X_private_test, Y_private_test"
   ]
  },
  {
   "cell_type": "code",
   "execution_count": 13,
   "metadata": {},
   "outputs": [],
   "source": [
    "X_private_test, Y_private_test = get_private_test_data()"
   ]
  },
  {
   "cell_type": "code",
   "execution_count": 14,
   "metadata": {},
   "outputs": [
    {
     "name": "stdout",
     "output_type": "stream",
     "text": [
      "(3589, 48, 48, 1) (3589, 7)\n"
     ]
    }
   ],
   "source": [
    "print(X_private_test.shape, Y_private_test.shape)"
   ]
  },
  {
   "cell_type": "markdown",
   "metadata": {},
   "source": [
    "### 5. 1 Load the trained model"
   ]
  },
  {
   "cell_type": "code",
   "execution_count": 15,
   "metadata": {},
   "outputs": [
    {
     "name": "stdout",
     "output_type": "stream",
     "text": [
      "WARNING:tensorflow:Variable *= will be deprecated. Use variable.assign_mul if you want assignment to the variable value or 'x = x * y' if you want a new python Tensor object.\n"
     ]
    }
   ],
   "source": [
    "new_model = load_model(\"FaceExp_Reco_tr_08.best.hdf5\",custom_objects={'categorical_crossentropy_svm': categorical_crossentropy_svm})\n",
    "\n"
   ]
  },
  {
   "cell_type": "markdown",
   "metadata": {},
   "source": [
    "### 5.2 Verfiy the performace on train and validation data"
   ]
  },
  {
   "cell_type": "code",
   "execution_count": 16,
   "metadata": {},
   "outputs": [
    {
     "name": "stdout",
     "output_type": "stream",
     "text": [
      "32181/32181 [==============================] - 75s 2ms/step\n",
      "Training loss: 0.41371478178647747\n",
      "Training accuracy: 0.86796556975168\n"
     ]
    }
   ],
   "source": [
    "score = new_model.evaluate(X_train, Y_train, verbose=1)\n",
    "print('Training loss:', score[0])\n",
    "print('Training accuracy:', score[1])"
   ]
  },
  {
   "cell_type": "code",
   "execution_count": 17,
   "metadata": {},
   "outputs": [
    {
     "name": "stdout",
     "output_type": "stream",
     "text": [
      "3589/3589 [==============================] - 2s 510us/step\n",
      "Public Leader Board Test loss: 1.1828097103697637\n",
      "Public Leader Board Test accuracy: 0.6960156032487057\n"
     ]
    }
   ],
   "source": [
    "score = new_model.evaluate(X_val, Y_val, verbose=1)\n",
    "print('Public Leader Board Test loss:', score[0])\n",
    "print('Public Leader Board Test accuracy:', score[1])"
   ]
  },
  {
   "cell_type": "markdown",
   "metadata": {},
   "source": [
    "### 5.2 Test with Private Leader Board data"
   ]
  },
  {
   "cell_type": "code",
   "execution_count": 18,
   "metadata": {},
   "outputs": [
    {
     "name": "stdout",
     "output_type": "stream",
     "text": [
      "3589/3589 [==============================] - 2s 511us/step\n",
      "Private Leader Board Test loss: 1.1828097103697637\n",
      "Private Leader Board Test accuracy: 0.6960156032487057\n"
     ]
    }
   ],
   "source": [
    "#score = new_model.evaluate(X_private_test, Y_private_test, verbose=1)\n",
    "score = new_model.evaluate(X_private_test, Y_private_test, verbose=1)\n",
    "print('Private Leader Board Test loss:', score[0])\n",
    "print('Private Leader Board Test accuracy:', score[1])"
   ]
  },
  {
   "cell_type": "markdown",
   "metadata": {},
   "source": [
    "### 6.  Analyse the results of the stand alone model"
   ]
  },
  {
   "cell_type": "code",
   "execution_count": 26,
   "metadata": {},
   "outputs": [],
   "source": [
    "import itertools\n",
    "import numpy as np\n",
    "import matplotlib.pyplot as plt\n",
    "from sklearn.metrics import confusion_matrix\n",
    "%matplotlib inline  \n",
    "\n",
    "\n",
    "\n",
    "def plot_confusion_matrix(cm, classes,\n",
    "                          normalize=False,\n",
    "                          title='Confusion matrix',\n",
    "                          cmap=plt.cm.Blues):\n",
    "    \"\"\"\n",
    "    This function prints and plots the confusion matrix.\n",
    "    Normalization can be applied by setting `normalize=True`.\n",
    "    \"\"\"\n",
    "    if normalize:\n",
    "        cm = cm.astype('float') / cm.sum(axis=1)[:, np.newaxis]\n",
    "        print(\"Normalized confusion matrix\")\n",
    "    else:\n",
    "        print('Confusion matrix, without normalization')\n",
    "\n",
    "    #print(cm) #to print in text if needed\n",
    "\n",
    "    plt.imshow(cm, interpolation='nearest', cmap=cmap)\n",
    "    plt.title(title)\n",
    "    plt.colorbar()\n",
    "    tick_marks = np.arange(len(classes))\n",
    "    plt.xticks(tick_marks, classes, rotation=45)\n",
    "    plt.yticks(tick_marks, classes)\n",
    "\n",
    "    fmt = '.2f' if normalize else 'd'\n",
    "    thresh = cm.max() / 2.\n",
    "    for i, j in itertools.product(range(cm.shape[0]), range(cm.shape[1])):\n",
    "        plt.text(j, i, format(cm[i, j], fmt),\n",
    "                 horizontalalignment=\"center\",\n",
    "                 color=\"white\" if cm[i, j] > thresh else \"black\")\n",
    "\n",
    "    plt.tight_layout()\n",
    "    plt.ylabel('True label')\n",
    "    plt.xlabel('Predicted label')"
   ]
  },
  {
   "cell_type": "markdown",
   "metadata": {},
   "source": [
    "### 6.1  print confusion matrix - check how the model performed on various classes (TEST)"
   ]
  },
  {
   "cell_type": "code",
   "execution_count": 27,
   "metadata": {},
   "outputs": [],
   "source": [
    "Y_private_pred = new_model.predict_proba(X_private_test)\n"
   ]
  },
  {
   "cell_type": "code",
   "execution_count": 28,
   "metadata": {},
   "outputs": [],
   "source": [
    "y_true = []\n",
    "y_pred = []\n",
    "\n",
    "for row in Y_private_test:\n",
    "    a = numpy.argmax(row) #return the indices of the maximum values along the axis\n",
    "    y_true.append(a)\n",
    "    \n",
    "for row in Y_private_pred:\n",
    "    a = numpy.argmax(row) #return the indices of the maximum values along the axis\n",
    "    y_pred.append(a)"
   ]
  },
  {
   "cell_type": "code",
   "execution_count": 29,
   "metadata": {},
   "outputs": [
    {
     "name": "stdout",
     "output_type": "stream",
     "text": [
      "Normalized confusion matrix\n"
     ]
    },
    {
     "data": {
      "image/png": "[encoded data removed]",
      "text/plain": [
       "<Figure size 432x288 with 2 Axes>"
      ]
     },
     "metadata": {},
     "output_type": "display_data"
    }
   ],
   "source": [
    "cnf_matrix     = confusion_matrix(y_true, y_pred)\n",
    "class_names    = ['Angry', 'Disgust', 'Fear', 'Happy', 'Neutral', 'Sad', 'Suprise']\n",
    "\n",
    "\n",
    "plt.figure()\n",
    "plot_confusion_matrix(cnf_matrix, classes=class_names, normalize=True,\n",
    "                      title='Normalized confusion matrix for Test Data')"
   ]
  },
  {
   "cell_type": "markdown",
   "metadata": {},
   "source": [
    "### 6.3  print confusion matrix - check how the model performed on various classes (TRAIN)"
   ]
  },
  {
   "cell_type": "code",
   "execution_count": 30,
   "metadata": {},
   "outputs": [],
   "source": [
    "Y_train_pred = new_model.predict_proba(X_train)"
   ]
  },
  {
   "cell_type": "code",
   "execution_count": 31,
   "metadata": {},
   "outputs": [],
   "source": [
    "y_true = []\n",
    "y_pred = []\n",
    "\n",
    "for row in Y_train:\n",
    "    a = numpy.argmax(row) #return the indices of the maximum values along the axis\n",
    "    y_true.append(a)\n",
    "    \n",
    "for row in Y_train_pred:\n",
    "    a = numpy.argmax(row) #return tY_train_predhe indices of the maximum values along the axis\n",
    "    y_pred.append(a)"
   ]
  },
  {
   "cell_type": "code",
   "execution_count": 32,
   "metadata": {},
   "outputs": [
    {
     "name": "stdout",
     "output_type": "stream",
     "text": [
      "Normalized confusion matrix\n"
     ]
    },
    {
     "data": {
      "image/png": "[encoded data removed]",
      "text/plain": [
       "<Figure size 432x288 with 2 Axes>"
      ]
     },
     "metadata": {},
     "output_type": "display_data"
    }
   ],
   "source": [
    "cnf_matrix     = confusion_matrix(y_true, y_pred)\n",
    "class_names    = ['Angry', 'Disgust', 'Fear', 'Happy', 'Neutral', 'Sad', 'Suprise']\n",
    "\n",
    "\n",
    "plt.figure()\n",
    "plot_confusion_matrix(cnf_matrix, classes=class_names, normalize=True,\n",
    "                      title='Normalized confusion matrix for Train Data')"
   ]
  },
  {
   "cell_type": "code",
   "execution_count": null,
   "metadata": {},
   "outputs": [],
   "source": []
  },
  {
   "cell_type": "markdown",
   "metadata": {},
   "source": [
    "### 6.3  Observations\n",
    "\n",
    "- Here we can see on what classes the model performed well and bad\n",
    "- Fear and Neutral classes are performing badly on Test Data"
   ]
  },
  {
   "cell_type": "markdown",
   "metadata": {},
   "source": [
    "### 7. Build Different ensemble models (using Randomly perturbed input) to further  increase accuracy"
   ]
  },
  {
   "cell_type": "markdown",
   "metadata": {},
   "source": [
    "### 7.1 Simple Average Ensembling"
   ]
  },
  {
   "cell_type": "code",
   "execution_count": 35,
   "metadata": {},
   "outputs": [],
   "source": [
    "private_set_x, private_set_y = dataprocessing.load_test_data()"
   ]
  },
  {
   "cell_type": "code",
   "execution_count": 36,
   "metadata": {},
   "outputs": [],
   "source": [
    "def predict_prob(number,test_set_x,model):\n",
    "    data_p = []\n",
    "    for data in test_set_x:\n",
    "        if number ==0:\n",
    "            data_p.append(dataprocessing.Flip(data))\n",
    "        elif number ==1:\n",
    "            data_p.append(dataprocessing.Roated15Left(data))\n",
    "        elif number ==2:\n",
    "            data_p.append(dataprocessing.Roated15Right(data))\n",
    "        elif number ==3:\n",
    "            data_p.append(dataprocessing.shiftedUp20(data))\n",
    "        elif number ==4:\n",
    "            data_p.append(dataprocessing.shiftedDown20(data))\n",
    "        elif number ==5:\n",
    "            data_p.append(dataprocessing.shiftedLeft20(data))\n",
    "        elif number ==6:\n",
    "            data_p.append(dataprocessing.shiftedRight20(data))\n",
    "        elif number ==7:\n",
    "            data_p.append(data)\n",
    "    \n",
    "    #Covert the data to Numpy format\n",
    "    for i in range(len(data_p)):\n",
    "        data_p[i] = (array(data_p[i])).reshape(48, 48, 1)\n",
    "        \n",
    "    X_private_test= array(data_p)\n",
    "            \n",
    "    proba = model.predict_proba(X_private_test)\n",
    "    return proba"
   ]
  },
  {
   "cell_type": "code",
   "execution_count": 37,
   "metadata": {},
   "outputs": [],
   "source": [
    "model = new_model\n",
    "\n",
    "proba0 = predict_prob(0, private_set_x, model)\n",
    "proba1 = predict_prob(1, private_set_x, model)\n",
    "proba2 = predict_prob(2, private_set_x, model)\n",
    "proba3 = predict_prob(3, private_set_x, model)\n",
    "proba4 = predict_prob(4, private_set_x, model)\n",
    "proba5 = predict_prob(5, private_set_x, model)\n",
    "proba6 = predict_prob(6, private_set_x, model)\n",
    "proba7 = predict_prob(7, private_set_x, model)"
   ]
  },
  {
   "cell_type": "code",
   "execution_count": 38,
   "metadata": {},
   "outputs": [],
   "source": [
    "Y_SA_Ense_pred = []\n",
    "for row in zip(proba0,proba1,proba2,proba3,proba4,proba5,proba6,proba7):\n",
    "    a = numpy.argmax(np.array(row).mean(axis=0)) #return the indices of the maximum values along the axis\n",
    "    Y_SA_Ense_pred.append(a)"
   ]
  },
  {
   "cell_type": "code",
   "execution_count": 39,
   "metadata": {},
   "outputs": [],
   "source": [
    "Y_SA_Ense_pred = np.array(Y_SA_Ense_pred)\n",
    "private_set_y  = np.array(private_set_y)"
   ]
  },
  {
   "cell_type": "code",
   "execution_count": null,
   "metadata": {},
   "outputs": [],
   "source": []
  },
  {
   "cell_type": "code",
   "execution_count": null,
   "metadata": {},
   "outputs": [],
   "source": []
  },
  {
   "cell_type": "markdown",
   "metadata": {},
   "source": [
    "### Calculate how many correct predictions we got"
   ]
  },
  {
   "cell_type": "code",
   "execution_count": 40,
   "metadata": {},
   "outputs": [],
   "source": [
    "count_correct = np.sum(Y_SA_Ense_pred == private_set_y)"
   ]
  },
  {
   "cell_type": "code",
   "execution_count": 52,
   "metadata": {},
   "outputs": [
    {
     "name": "stdout",
     "output_type": "stream",
     "text": [
      "Accuracy of Simple Average Ensembling on Private Leader Board Data:0.7035385901365283\n"
     ]
    }
   ],
   "source": [
    "print(\"Accuracy of Simple Average Ensembling on Private Leader Board Data:\"+str((float(count_correct)/len(Y_SA_Ense_pred))))"
   ]
  },
  {
   "cell_type": "code",
   "execution_count": null,
   "metadata": {},
   "outputs": [],
   "source": []
  },
  {
   "cell_type": "code",
   "execution_count": 53,
   "metadata": {},
   "outputs": [
    {
     "name": "stdout",
     "output_type": "stream",
     "text": [
      "Normalized confusion matrix\n"
     ]
    },
    {
     "data": {
      "image/png": "[encoded data removed]",
      "text/plain": [
       "<Figure size 432x288 with 2 Axes>"
      ]
     },
     "metadata": {},
     "output_type": "display_data"
    }
   ],
   "source": [
    "cnf_matrix     = confusion_matrix(Y_SA_Ense_pred, private_set_y)\n",
    "class_names    = ['Angry', 'Disgust', 'Fear', 'Happy', 'Neutral', 'Sad', 'Suprise']\n",
    "\n",
    "\n",
    "plt.figure()\n",
    "plot_confusion_matrix(cnf_matrix, classes=class_names, normalize=True,\n",
    "                      title='Normalized confusion matrix for Test Data - Using Simple Average Ensembling')"
   ]
  },
  {
   "cell_type": "markdown",
   "metadata": {},
   "source": [
    "### 7.1.1 Simple Average Ensembling - Observations\n",
    "\n",
    "- Using Simple Average Ensembling, we could  slightly improve the performace of the prediction model\n",
    "    - from **0.6960** to **0.7035**"
   ]
  },
  {
   "cell_type": "code",
   "execution_count": null,
   "metadata": {},
   "outputs": [],
   "source": []
  },
  {
   "cell_type": "markdown",
   "metadata": {},
   "source": [
    "### 9.  Choose the one with highest tesing accuracy"
   ]
  },
  {
   "cell_type": "markdown",
   "metadata": {},
   "source": [
    "### 9.1 Conclusion\n",
    "- Simple Average Ensembling has an accuracy of 0.7030 which beats the score of 0.69"
   ]
  },
  {
   "cell_type": "code",
   "execution_count": null,
   "metadata": {},
   "outputs": [],
   "source": []
  }
 ],
 "metadata": {
  "kernelspec": {
   "display_name": "Python 3",
   "language": "python",
   "name": "python3"
  },
  "language_info": {
   "codemirror_mode": {
    "name": "ipython",
    "version": 3
   },
   "file_extension": ".py",
   "mimetype": "text/x-python",
   "name": "python",
   "nbconvert_exporter": "python",
   "pygments_lexer": "ipython3",
   "version": "3.6.3"
  }
 },
 "nbformat": 4,
 "nbformat_minor": 2
}
